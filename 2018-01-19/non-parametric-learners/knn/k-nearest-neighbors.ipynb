{
 "cells": [
  {
   "cell_type": "markdown",
   "metadata": {},
   "source": [
    "# The *K* Nearest  Neighbors Classifier\n"
   ]
  },
  {
   "cell_type": "code",
   "execution_count": null,
   "metadata": {
    "collapsed": true
   },
   "outputs": [],
   "source": []
  },
  {
   "cell_type": "markdown",
   "metadata": {},
   "source": [
    "## [*K* Nearest  Neighbors](https://en.wikipedia.org/wiki/K-nearest_neighbors_algorithm)\n",
    "\n",
    "For fixed $K$, *the KNN classifier predicts the class of $\\bf x$ as the majority class among its $K$ nearest neighbors*.\n",
    "\n",
    "Unlike the Logistic Regression classifier, KNN is your first example of a multi-class classifier. It can just as easily classify as many classes as there are datapoints, if it is so desired (not very accurate). In general, it can be used (with low accuracy) on up to $\\dfrac{N}{K}$ classes, where $N$ is the number of distinct training samples (rows) and $K$ is a number provided to it by the user.\n",
    "\n",
    "<img src=\"imgs/knn_cartoon.png\"/ width=450>\n",
    "\n",
    "### K as a hyperparameter\n",
    "\n",
    "$K$ is a **hyperparameter** for the classifier. Hyperparameters differ from parameters in that the hyperparameters are the parameters for the underlying prior distribution of a model. The machine learning step learns **parameters** from the data, but the human has to make efforts to determine the **hyperparameters** for the model.\n",
    "\n",
    "This idea can also be extended to distribution theory. For example:\n",
    "\n",
    "Suppose we are using a beta distribution to model the distribution of the parameter p of a Bernoulli distribution, then:\n",
    "\n",
    "$p$ is the parameter of the underlying system (Bernoulli distribution), and $\\alpha$ and $\\beta$ are parameters of the prior distribution (beta distribution), hence they are hyperparameters.\n",
    "\n",
    "\n",
    "### KNN Tradeoffs\n",
    "#### Why KNN\n",
    "\n",
    "* Easily interpretable\n",
    "* [non-parametric](http://en.wikipedia.org/wiki/Non-parametric_statistics#Non-parametric_models)/[non-linear](http://www.yaksis.com/static/img/02/cows_and_wolves.png)/model complex phenomena\n",
    "* Mixed data (nominal and continuous)\n",
    "* Crazy boundary structure is no problem\n",
    "* Automatic outlier handling\n",
    "* Computationally super cheap to ___train___\n",
    "\n",
    "#### Why Not KNN\n",
    "\n",
    "* Computationally _expensive_ to ___predict___ (ways around this)\n",
    "* Greedy algorithm (local optima)\n",
    "* Sensitive to hyperparameter choice - be careful\n",
    "* Dimensionality can destroy effectiveness of measure due to curse of dimensionality - clever distance measures are required!"
   ]
  },
  {
   "cell_type": "markdown",
   "metadata": {},
   "source": [
    "## Distance Metrics\n",
    "\n",
    "As explained above, KNN algorithm assigns a class to the test point based on the majority class of $K$ nearest neighbours. In general, euclidean distance is used to find nearest neighbours, but other distance metrics ($L^{p}$-metrics) can also be used.\n",
    "\n",
    "As the dimensionality of the feature space increases, the euclidean distance often becomes problematic due to the *curse of dimensionality*.\n",
    "\n",
    "In such cases, alternative vector-based similarity measures (dot product, cosine similarity, etc) are used to find the nearest neighbours. This transforms the original metric space into one more amicable to point-to-point measurements. "
   ]
  },
  {
   "cell_type": "markdown",
   "metadata": {},
   "source": [
    "## How to Build KNN\n",
    "\n",
    "The KNN algorithm is very simple to implement, as it does not need to be trained. The training phase merely stores the training data. For each test point, we calculate the distance of that data point to every existing data point and find the $K$ closest ones. What we return is the the most common amongst the top k classification nearest to the test point. Here's the pseudocode for _K_ Nearest Neighbors:\n",
    "\n",
    "```\n",
    "kNN:\n",
    "    for every point x in the dataset:\n",
    "        calculate the distance between the point and x\n",
    "        sort the distances in increasing order\n",
    "        take the k items with the smallest distances to x\n",
    "        return the majority class among these k items\n",
    "```\n",
    "\n",
    "Note that for large data sets, the algorithm can take very long to predict because it has to calculate the distance between the test point and evey other point in the data!\n",
    "\n",
    "### Question:\n",
    "\n",
    "What is the complexity order $O(N)$ of this operation?\n",
    "\n",
    "The predicted class can be different for different values of $K$. For binary classification tasks, odd values of $K = 1,3,5,\\cdots$ are used to avoid ties, i.e., two class labels achieving the same score. For more than two classes, ties can be broken at random. The particular case of $K = 1$ is called the *nearest-neighbour* rule, because a test point is simply assigned to the same class as the nearest point from the training set.\n",
    "\n",
    "\n",
    "#### Ball Trees and K-D-Trees\n",
    "\n",
    "The computational difficulty of the *brute force* algorithm described above can be overcome by the use of efficient data structures, namely the *Ball Tree* and *K D Tree*, which eliminate the necessity of the algorithm trying to label based on every data point in the training dataset, by eliminating those neighbors from the loop that are too far away to matter. \n",
    "\n"
   ]
  },
  {
   "cell_type": "markdown",
   "metadata": {},
   "source": [
    "## Application\n",
    "\n",
    "Use the `plot_decision_boundary()` function and the starter code provided to compare Logistic Regression and KNN on the `grad.csv` dataset.\n",
    "\n",
    "1) Load the .csv file from `./data/grad.csv` into a suitable format. You can use pandas if you like or np.loadtxt() (you'll have to remove the labels) or roll your own. Only use the ['gre', 'gpa'] features. This version of `plot_decision_boundary` doesn't work with more features.\n",
    "\n",
    "2) You will need to use StandardScaler() from the sklearn.preprocessing library:\n",
    "\n",
    "`scaler = StandardScaler()\n",
    " scaler.fit(X)\n",
    " X = scaler.transform(X)`\n",
    "\n",
    "3) Try out using LogisticRegression and LogisticRegressionCV, play with different values of C (at least 5 different values from 0.05-5.0) and plot those boundaries.\n",
    "\n",
    "4) Now try out KNeighborsClassifier and play with n_neighbors. Plot these boundaries. What do you observe?\n",
    "\n",
    "5) Based on the boundaries you find, which is the better classifier? Does this conclusion seem \"right\" to you?\n",
    "\n",
    "6) Double check these conclusions by running a `train_test_split()` and getting a `cross_val_score()`. Both are found in the [model_selection library](http://scikit-learn.org/stable/modules/classes.html#module-sklearn.model_selection)"
   ]
  },
  {
   "cell_type": "code",
   "execution_count": 21,
   "metadata": {
    "collapsed": true
   },
   "outputs": [],
   "source": [
    "# Create color maps\n",
    "cmap_light = ListedColormap(['#FFAAAA', '#AAFFAA', '#AAAAFF'])\n",
    "cmap_bold = ListedColormap(['#FF0000', '#00FF00', '#0000FF'])\n",
    "\n",
    "def plot_decision_boundary(clf,X,y,cmap_bold, cmap_light,h = .02):\n",
    "    x_min, x_max = X[:, 0].min() - 1, X[:, 0].max() + 1\n",
    "    y_min, y_max = X[:, 1].min() - 1, X[:, 1].max() + 1\n",
    "    xx, yy = np.meshgrid(np.arange(x_min, x_max, h),\n",
    "                         np.arange(y_min, y_max, h))\n",
    "    Z = clf.predict(np.c_[xx.ravel(), yy.ravel()])\n",
    "\n",
    "    # Put the result into a color plot\n",
    "    Z = Z.reshape(xx.shape)\n",
    "    plt.figure()\n",
    "    plt.pcolormesh(xx, yy, Z, cmap=cmap_light)\n",
    "\n",
    "    # Plot also the training points\n",
    "    plt.scatter(X[:, 0], X[:, 1], c=y, cmap=cmap_bold,\n",
    "                edgecolor='k', s=20)\n",
    "    plt.xlim(xx.min(), xx.max())\n",
    "    plt.ylim(yy.min(), yy.max())\n",
    "    return"
   ]
  },
  {
   "cell_type": "code",
   "execution_count": 37,
   "metadata": {},
   "outputs": [
    {
     "data": {
      "image/png": "[encoded data removed]",
      "text/plain": [
       "<matplotlib.figure.Figure at 0x124380048>"
      ]
     },
     "metadata": {},
     "output_type": "display_data"
    }
   ],
   "source": [
    "# Let's practice with KNN and compare it to LR for a classification task.\n",
    "\n",
    "import numpy as np\n",
    "import matplotlib.pyplot as plt\n",
    "from matplotlib.colors import ListedColormap\n",
    "from sklearn import neighbors, datasets\n",
    "\n",
    "n_neighbors = 15\n",
    "\n",
    "# import some data to play with\n",
    "iris = datasets.load_iris()\n",
    "\n",
    "# we only take the first two features. \n",
    "X = iris.data[:, :2]\n",
    "y = iris.target\n",
    "\n",
    "clf = neighbors.KNeighborsClassifier(n_neighbors, weights='distance')\n",
    "clf.fit(X, y)\n",
    "\n",
    "plot_decision_boundary(clf,X,y,cmap_bold,cmap_light)"
   ]
  },
  {
   "cell_type": "markdown",
   "metadata": {},
   "source": [
    "## [Nearest Centroid](https://en.wikipedia.org/wiki/Nearest_centroid_classifier)\n",
    "\n",
    "There is also a [nearest centroid classifier](http://scikit-learn.org/stable/modules/generated/sklearn.neighbors.NearestCentroid.html#sklearn.neighbors.NearestCentroid), that is conceptually exactly the same as the Nearest Neighbors classifier, but instead calculates centroids (centers of mass) common to the training data. This is a more modern and generally useful classifier algorithm representative of the current state-of-the-art.\n"
   ]
  },
  {
   "cell_type": "code",
   "execution_count": null,
   "metadata": {
    "collapsed": true
   },
   "outputs": [],
   "source": []
  }
 ],
 "metadata": {
  "kernelspec": {
   "display_name": "Python 3",
   "language": "python",
   "name": "python3"
  },
  "language_info": {
   "codemirror_mode": {
    "name": "ipython",
    "version": 3
   },
   "file_extension": ".py",
   "mimetype": "text/x-python",
   "name": "python",
   "nbconvert_exporter": "python",
   "pygments_lexer": "ipython3",
   "version": "3.6.2"
  },
  "widgets": {
   "state": {},
   "version": "1.1.2"
  }
 },
 "nbformat": 4,
 "nbformat_minor": 1
}
