{
 "cells": [
  {
   "cell_type": "markdown",
   "metadata": {},
   "source": [
    "# The Curse of Dimensionality"
   ]
  },
  {
   "cell_type": "markdown",
   "metadata": {},
   "source": [
    "[Wikipedia] The curse of dimensionality (Bellman, 1961) refers to various phenomena that arise when analyzing and organizing data in high dimensional spaces (often with hundreds or thousands of dimensions) that do not occur in low-dimensional settings such as the three-dimensional physical space of everyday experience."
   ]
  },
  {
   "cell_type": "markdown",
   "metadata": {},
   "source": [
    "### Volume in Hyperspace"
   ]
  },
  {
   "cell_type": "markdown",
   "metadata": {},
   "source": [
    "Considere a hypercube with sides $l$. We wish to compute volume occupied by a small margin as shown in the following figure:"
   ]
  },
  {
   "cell_type": "markdown",
   "metadata": {},
   "source": [
    "<img src=\"imgs/square_margin.png\" width=350/>"
   ]
  },
  {
   "cell_type": "markdown",
   "metadata": {},
   "source": [
    "In two dimensions, the _volume_ of the margin is"
   ]
  },
  {
   "cell_type": "markdown",
   "metadata": {},
   "source": [
    "$$V_M = l^2 - (0.9 l)^2 = l^2 (1 - 0.9^2) = 0.19 l^2$$"
   ]
  },
  {
   "cell_type": "markdown",
   "metadata": {},
   "source": [
    "In three dimension, the volume of the margin becomes"
   ]
  },
  {
   "cell_type": "markdown",
   "metadata": {},
   "source": [
    "$$V_M = l^3 - (0.9 l)^3 = l^3 (1 - 0.9^3)= 0.27 l^3$$"
   ]
  },
  {
   "cell_type": "markdown",
   "metadata": {},
   "source": [
    "For the general case, as the dimensionality $d$ increases, the volume of the margin becomes:"
   ]
  },
  {
   "cell_type": "markdown",
   "metadata": {},
   "source": [
    "$$V_M = l^d (1 - 0.9^d) \\approx l^d$$"
   ]
  },
  {
   "cell_type": "markdown",
   "metadata": {},
   "source": [
    "For example, at $d=50$, $99\\%$ of the total volume is occupied by the margin!"
   ]
  },
  {
   "cell_type": "markdown",
   "metadata": {},
   "source": [
    "### 1-d case"
   ]
  },
  {
   "cell_type": "code",
   "execution_count": 20,
   "metadata": {
    "collapsed": true
   },
   "outputs": [],
   "source": [
    "# prep material\n",
    "import matplotlib.pyplot as plt\n",
    "%matplotlib inline"
   ]
  },
  {
   "cell_type": "code",
   "execution_count": 21,
   "metadata": {},
   "outputs": [
    {
     "name": "stdout",
     "output_type": "stream",
     "text": [
      "When dimension = 1 and the margins are 10.00% of the total edge length:\n",
      "\t Total volume = 1\n",
      "\t Hole volume  = 0.90000\n",
      "\t So as a ratio, 10.00% of the volume is in the margins.\n",
      "\n"
     ]
    }
   ],
   "source": [
    "# set the dimension and edge length\n",
    "d = 1\n",
    "edge_len = 1\n",
    "margin_ratio = .1\n",
    "\n",
    "cube_volume = edge_len ** d\n",
    "\n",
    "inner_cube_edge_len = edge_len * (1 - margin_ratio)\n",
    "inner_cube_volume = inner_cube_edge_len ** d\n",
    "\n",
    "margin_volume_ratio = (cube_volume - inner_cube_volume) / cube_volume\n",
    "\n",
    "print \"When dimension = {:d} and the margins are {:.2f}% of the total edge length:\".format(d, margin_ratio * 100)\n",
    "print \"\\t Total volume = {:d}\".format(cube_volume)\n",
    "print \"\\t Hole volume  = {:.5f}\".format(inner_cube_volume)\n",
    "print \"\\t So as a ratio,\",\n",
    "print \"{:.2f}% of the volume is in the margins.\\n\".format(100 * margin_volume_ratio)"
   ]
  },
  {
   "cell_type": "markdown",
   "metadata": {},
   "source": [
    "### Generalized to d > 1\n",
    "Lets build a custom function to do this for arbitrary of dimensions:"
   ]
  },
  {
   "cell_type": "code",
   "execution_count": 22,
   "metadata": {
    "collapsed": true
   },
   "outputs": [],
   "source": [
    "def hyper_margin_ratio(d = 1, edge_len = 1, margin_ratio = .1):\n",
    "    ''' Calculates (volume of hypermargin) / (volume of outer hypercube)\n",
    "        \n",
    "        d = dimension of the hyperspace\n",
    "        edge_len = edge length of the hypercube\n",
    "        margin_ratio = fraction of edge_len that will be in margin, \n",
    "                       ie. margin length = margin_ratio * edge_len\n",
    "        \n",
    "    '''\n",
    "    cube_volume = edge_len ** d\n",
    "\n",
    "    inner_cube_edge_len = edge_len * (1 - margin_ratio)\n",
    "    inner_cube_volume = inner_cube_edge_len ** d\n",
    "\n",
    "    margin_volume_ratio = (cube_volume - inner_cube_volume) / cube_volume\n",
    "    \n",
    "    print \"When dimension = {:d} and the margins are {:.2f}% of the total edge length:\".format(d, margin_ratio * 100)\n",
    "    print \"\\t Total volume = {:d}\".format(cube_volume)\n",
    "    print \"\\t Hole volume  = {:.5f}\".format(inner_cube_volume)\n",
    "    print \"\\t So as a ratio,\",\n",
    "    print \"{:.2f}% of the volume is in the margins.\\n\".format(100 * margin_volume_ratio)\n",
    "\n",
    "    return margin_volume_ratio"
   ]
  },
  {
   "cell_type": "markdown",
   "metadata": {},
   "source": [
    "### 2-dim case"
   ]
  },
  {
   "cell_type": "code",
   "execution_count": 23,
   "metadata": {},
   "outputs": [
    {
     "name": "stdout",
     "output_type": "stream",
     "text": [
      "When dimension = 2 and the margins are 10.00% of the total edge length:\n",
      "\t Total volume = 1\n",
      "\t Hole volume  = 0.81000\n",
      "\t So as a ratio, 19.00% of the volume is in the margins.\n",
      "\n"
     ]
    }
   ],
   "source": [
    "d2 = hyper_margin_ratio(d = 2)"
   ]
  },
  {
   "cell_type": "markdown",
   "metadata": {},
   "source": [
    "### n-dim case"
   ]
  },
  {
   "cell_type": "markdown",
   "metadata": {},
   "source": [
    "So for the 2 dimension case, we see that around 19% is in the margins.\n",
    "Now lets loop through n = 1,2,3,... to see how this ratio increases with dimension number:"
   ]
  },
  {
   "cell_type": "code",
   "execution_count": 24,
   "metadata": {},
   "outputs": [
    {
     "name": "stdout",
     "output_type": "stream",
     "text": [
      "When dimension = 1 and the margins are 5.00% of the total edge length:\n",
      "\t Total volume = 1\n",
      "\t Hole volume  = 0.95000\n",
      "\t So as a ratio, 5.00% of the volume is in the margins.\n",
      "\n",
      "When dimension = 2 and the margins are 5.00% of the total edge length:\n",
      "\t Total volume = 1\n",
      "\t Hole volume  = 0.90250\n",
      "\t So as a ratio, 9.75% of the volume is in the margins.\n",
      "\n",
      "When dimension = 3 and the margins are 5.00% of the total edge length:\n",
      "\t Total volume = 1\n",
      "\t Hole volume  = 0.85737\n",
      "\t So as a ratio, 14.26% of the volume is in the margins.\n",
      "\n",
      "When dimension = 4 and the margins are 5.00% of the total edge length:\n",
      "\t Total volume = 1\n",
      "\t Hole volume  = 0.81451\n",
      "\t So as a ratio, 18.55% of the volume is in the margins.\n",
      "\n",
      "When dimension = 5 and the margins are 5.00% of the total edge length:\n",
      "\t Total volume = 1\n",
      "\t Hole volume  = 0.77378\n",
      "\t So as a ratio, 22.62% of the volume is in the margins.\n",
      "\n",
      "When dimension = 6 and the margins are 5.00% of the total edge length:\n",
      "\t Total volume = 1\n",
      "\t Hole volume  = 0.73509\n",
      "\t So as a ratio, 26.49% of the volume is in the margins.\n",
      "\n",
      "When dimension = 7 and the margins are 5.00% of the total edge length:\n",
      "\t Total volume = 1\n",
      "\t Hole volume  = 0.69834\n",
      "\t So as a ratio, 30.17% of the volume is in the margins.\n",
      "\n",
      "When dimension = 8 and the margins are 5.00% of the total edge length:\n",
      "\t Total volume = 1\n",
      "\t Hole volume  = 0.66342\n",
      "\t So as a ratio, 33.66% of the volume is in the margins.\n",
      "\n",
      "When dimension = 9 and the margins are 5.00% of the total edge length:\n",
      "\t Total volume = 1\n",
      "\t Hole volume  = 0.63025\n",
      "\t So as a ratio, 36.98% of the volume is in the margins.\n",
      "\n",
      "When dimension = 10 and the margins are 5.00% of the total edge length:\n",
      "\t Total volume = 1\n",
      "\t Hole volume  = 0.59874\n",
      "\t So as a ratio, 40.13% of the volume is in the margins.\n",
      "\n",
      "When dimension = 11 and the margins are 5.00% of the total edge length:\n",
      "\t Total volume = 1\n",
      "\t Hole volume  = 0.56880\n",
      "\t So as a ratio, 43.12% of the volume is in the margins.\n",
      "\n",
      "When dimension = 12 and the margins are 5.00% of the total edge length:\n",
      "\t Total volume = 1\n",
      "\t Hole volume  = 0.54036\n",
      "\t So as a ratio, 45.96% of the volume is in the margins.\n",
      "\n",
      "When dimension = 13 and the margins are 5.00% of the total edge length:\n",
      "\t Total volume = 1\n",
      "\t Hole volume  = 0.51334\n",
      "\t So as a ratio, 48.67% of the volume is in the margins.\n",
      "\n",
      "When dimension = 14 and the margins are 5.00% of the total edge length:\n",
      "\t Total volume = 1\n",
      "\t Hole volume  = 0.48767\n",
      "\t So as a ratio, 51.23% of the volume is in the margins.\n",
      "\n",
      "When dimension = 15 and the margins are 5.00% of the total edge length:\n",
      "\t Total volume = 1\n",
      "\t Hole volume  = 0.46329\n",
      "\t So as a ratio, 53.67% of the volume is in the margins.\n",
      "\n",
      "When dimension = 16 and the margins are 5.00% of the total edge length:\n",
      "\t Total volume = 1\n",
      "\t Hole volume  = 0.44013\n",
      "\t So as a ratio, 55.99% of the volume is in the margins.\n",
      "\n",
      "When dimension = 17 and the margins are 5.00% of the total edge length:\n",
      "\t Total volume = 1\n",
      "\t Hole volume  = 0.41812\n",
      "\t So as a ratio, 58.19% of the volume is in the margins.\n",
      "\n",
      "When dimension = 18 and the margins are 5.00% of the total edge length:\n",
      "\t Total volume = 1\n",
      "\t Hole volume  = 0.39721\n",
      "\t So as a ratio, 60.28% of the volume is in the margins.\n",
      "\n",
      "When dimension = 19 and the margins are 5.00% of the total edge length:\n",
      "\t Total volume = 1\n",
      "\t Hole volume  = 0.37735\n",
      "\t So as a ratio, 62.26% of the volume is in the margins.\n",
      "\n",
      "When dimension = 20 and the margins are 5.00% of the total edge length:\n",
      "\t Total volume = 1\n",
      "\t Hole volume  = 0.35849\n",
      "\t So as a ratio, 64.15% of the volume is in the margins.\n",
      "\n",
      "When dimension = 21 and the margins are 5.00% of the total edge length:\n",
      "\t Total volume = 1\n",
      "\t Hole volume  = 0.34056\n",
      "\t So as a ratio, 65.94% of the volume is in the margins.\n",
      "\n",
      "When dimension = 22 and the margins are 5.00% of the total edge length:\n",
      "\t Total volume = 1\n",
      "\t Hole volume  = 0.32353\n",
      "\t So as a ratio, 67.65% of the volume is in the margins.\n",
      "\n",
      "When dimension = 23 and the margins are 5.00% of the total edge length:\n",
      "\t Total volume = 1\n",
      "\t Hole volume  = 0.30736\n",
      "\t So as a ratio, 69.26% of the volume is in the margins.\n",
      "\n",
      "When dimension = 24 and the margins are 5.00% of the total edge length:\n",
      "\t Total volume = 1\n",
      "\t Hole volume  = 0.29199\n",
      "\t So as a ratio, 70.80% of the volume is in the margins.\n",
      "\n",
      "When dimension = 25 and the margins are 5.00% of the total edge length:\n",
      "\t Total volume = 1\n",
      "\t Hole volume  = 0.27739\n",
      "\t So as a ratio, 72.26% of the volume is in the margins.\n",
      "\n",
      "When dimension = 26 and the margins are 5.00% of the total edge length:\n",
      "\t Total volume = 1\n",
      "\t Hole volume  = 0.26352\n",
      "\t So as a ratio, 73.65% of the volume is in the margins.\n",
      "\n",
      "When dimension = 27 and the margins are 5.00% of the total edge length:\n",
      "\t Total volume = 1\n",
      "\t Hole volume  = 0.25034\n",
      "\t So as a ratio, 74.97% of the volume is in the margins.\n",
      "\n",
      "When dimension = 28 and the margins are 5.00% of the total edge length:\n",
      "\t Total volume = 1\n",
      "\t Hole volume  = 0.23783\n",
      "\t So as a ratio, 76.22% of the volume is in the margins.\n",
      "\n",
      "When dimension = 29 and the margins are 5.00% of the total edge length:\n",
      "\t Total volume = 1\n",
      "\t Hole volume  = 0.22594\n",
      "\t So as a ratio, 77.41% of the volume is in the margins.\n",
      "\n",
      "When dimension = 30 and the margins are 5.00% of the total edge length:\n",
      "\t Total volume = 1\n",
      "\t Hole volume  = 0.21464\n",
      "\t So as a ratio, 78.54% of the volume is in the margins.\n",
      "\n",
      "When dimension = 31 and the margins are 5.00% of the total edge length:\n",
      "\t Total volume = 1\n",
      "\t Hole volume  = 0.20391\n",
      "\t So as a ratio, 79.61% of the volume is in the margins.\n",
      "\n",
      "When dimension = 32 and the margins are 5.00% of the total edge length:\n",
      "\t Total volume = 1\n",
      "\t Hole volume  = 0.19371\n",
      "\t So as a ratio, 80.63% of the volume is in the margins.\n",
      "\n",
      "When dimension = 33 and the margins are 5.00% of the total edge length:\n",
      "\t Total volume = 1\n",
      "\t Hole volume  = 0.18403\n",
      "\t So as a ratio, 81.60% of the volume is in the margins.\n",
      "\n",
      "When dimension = 34 and the margins are 5.00% of the total edge length:\n",
      "\t Total volume = 1\n",
      "\t Hole volume  = 0.17482\n",
      "\t So as a ratio, 82.52% of the volume is in the margins.\n",
      "\n",
      "When dimension = 35 and the margins are 5.00% of the total edge length:\n",
      "\t Total volume = 1\n",
      "\t Hole volume  = 0.16608\n",
      "\t So as a ratio, 83.39% of the volume is in the margins.\n",
      "\n",
      "When dimension = 36 and the margins are 5.00% of the total edge length:\n",
      "\t Total volume = 1\n",
      "\t Hole volume  = 0.15778\n",
      "\t So as a ratio, 84.22% of the volume is in the margins.\n",
      "\n",
      "When dimension = 37 and the margins are 5.00% of the total edge length:\n",
      "\t Total volume = 1\n",
      "\t Hole volume  = 0.14989\n",
      "\t So as a ratio, 85.01% of the volume is in the margins.\n",
      "\n",
      "When dimension = 38 and the margins are 5.00% of the total edge length:\n",
      "\t Total volume = 1\n",
      "\t Hole volume  = 0.14240\n",
      "\t So as a ratio, 85.76% of the volume is in the margins.\n",
      "\n",
      "When dimension = 39 and the margins are 5.00% of the total edge length:\n",
      "\t Total volume = 1\n",
      "\t Hole volume  = 0.13528\n",
      "\t So as a ratio, 86.47% of the volume is in the margins.\n",
      "\n",
      "When dimension = 40 and the margins are 5.00% of the total edge length:\n",
      "\t Total volume = 1\n",
      "\t Hole volume  = 0.12851\n",
      "\t So as a ratio, 87.15% of the volume is in the margins.\n",
      "\n",
      "When dimension = 41 and the margins are 5.00% of the total edge length:\n",
      "\t Total volume = 1\n",
      "\t Hole volume  = 0.12209\n",
      "\t So as a ratio, 87.79% of the volume is in the margins.\n",
      "\n",
      "When dimension = 42 and the margins are 5.00% of the total edge length:\n",
      "\t Total volume = 1\n",
      "\t Hole volume  = 0.11598\n",
      "\t So as a ratio, 88.40% of the volume is in the margins.\n",
      "\n",
      "When dimension = 43 and the margins are 5.00% of the total edge length:\n",
      "\t Total volume = 1\n",
      "\t Hole volume  = 0.11018\n",
      "\t So as a ratio, 88.98% of the volume is in the margins.\n",
      "\n",
      "When dimension = 44 and the margins are 5.00% of the total edge length:\n",
      "\t Total volume = 1\n",
      "\t Hole volume  = 0.10467\n",
      "\t So as a ratio, 89.53% of the volume is in the margins.\n",
      "\n",
      "When dimension = 45 and the margins are 5.00% of the total edge length:\n",
      "\t Total volume = 1\n",
      "\t Hole volume  = 0.09944\n",
      "\t So as a ratio, 90.06% of the volume is in the margins.\n",
      "\n",
      "When dimension = 46 and the margins are 5.00% of the total edge length:\n",
      "\t Total volume = 1\n",
      "\t Hole volume  = 0.09447\n",
      "\t So as a ratio, 90.55% of the volume is in the margins.\n",
      "\n",
      "When dimension = 47 and the margins are 5.00% of the total edge length:\n",
      "\t Total volume = 1\n",
      "\t Hole volume  = 0.08974\n",
      "\t So as a ratio, 91.03% of the volume is in the margins.\n",
      "\n",
      "When dimension = 48 and the margins are 5.00% of the total edge length:\n",
      "\t Total volume = 1\n",
      "\t Hole volume  = 0.08526\n",
      "\t So as a ratio, 91.47% of the volume is in the margins.\n",
      "\n",
      "When dimension = 49 and the margins are 5.00% of the total edge length:\n",
      "\t Total volume = 1\n",
      "\t Hole volume  = 0.08099\n",
      "\t So as a ratio, 91.90% of the volume is in the margins.\n",
      "\n",
      "When dimension = 50 and the margins are 5.00% of the total edge length:\n",
      "\t Total volume = 1\n",
      "\t Hole volume  = 0.07694\n",
      "\t So as a ratio, 92.31% of the volume is in the margins.\n",
      "\n",
      "[0.05, 0.1, 0.14, 0.19, 0.23, 0.26, 0.3, 0.34, 0.37, 0.4, 0.43, 0.46, 0.49, 0.51, 0.54, 0.56, 0.58, 0.6, 0.62, 0.64, 0.66, 0.68, 0.69, 0.71, 0.72, 0.74, 0.75, 0.76, 0.77, 0.79, 0.8, 0.81, 0.82, 0.83, 0.83, 0.84, 0.85, 0.86, 0.86, 0.87, 0.88, 0.88, 0.89, 0.9, 0.9, 0.91, 0.91, 0.91, 0.92, 0.92]\n"
     ]
    }
   ],
   "source": [
    "max_d = 50\n",
    "margin_ratio = .05\n",
    "dimensions = range(1, max_d + 1)\n",
    "\n",
    "margin_ratios = [\n",
    "    round(hyper_margin_ratio(d, margin_ratio = margin_ratio), 2) \n",
    "    for d in dimensions\n",
    "]\n",
    "\n",
    "print margin_ratios"
   ]
  },
  {
   "cell_type": "code",
   "execution_count": 25,
   "metadata": {},
   "outputs": [
    {
     "data": {
      "text/plain": [
       "<matplotlib.text.Text at 0x105601810>"
      ]
     },
     "execution_count": 25,
     "metadata": {},
     "output_type": "execute_result"
    },
    {
     "data": {
      "image/png": "[encoded data removed]",
      "text/plain": [
       "<matplotlib.figure.Figure at 0x105588850>"
      ]
     },
     "metadata": {},
     "output_type": "display_data"
    }
   ],
   "source": [
    "plt.plot(dimensions, margin_ratios)\n",
    "plt.title('Ratio of margins volume as a function of dimension')"
   ]
  },
  {
   "cell_type": "markdown",
   "metadata": {},
   "source": [
    "### Distance in Hyperspace"
   ]
  },
  {
   "cell_type": "markdown",
   "metadata": {},
   "source": [
    "Another practical effect of high dimensionality is that the distance between _nearest neighbours_ becomes very large. One the observe this effect through a simple simulation."
   ]
  },
  {
   "cell_type": "markdown",
   "metadata": {},
   "source": [
    "Consider a $d$-dimensional _random vector_:"
   ]
  },
  {
   "cell_type": "markdown",
   "metadata": {},
   "source": [
    "$${\\bf x} = [x_1 ~~ x_2 ~~ \\cdots ~~ x_d]^T$$"
   ]
  },
  {
   "cell_type": "markdown",
   "metadata": {},
   "source": [
    "where each component $x_i$ is uniformly distributed between $-1$ and $1$, i.e., $x_i \\sim U(-1,1)$. The following figure shows the such vectors $R^3$:"
   ]
  },
  {
   "cell_type": "markdown",
   "metadata": {},
   "source": [
    "<img src=\"imgs/uniform_points_cube.gif\" width=300/>"
   ]
  },
  {
   "cell_type": "markdown",
   "metadata": {},
   "source": [
    "We can now measure the distance, $r$, of each point from the origin, and plot a histogram. From this histogram, we can see that the random points can be as close as possible to the origin."
   ]
  },
  {
   "cell_type": "markdown",
   "metadata": {},
   "source": [
    "<img src=\"imgs/distance_3d_hist.gif\" width=350/>"
   ]
  },
  {
   "cell_type": "markdown",
   "metadata": {},
   "source": [
    "As the dimensionality increases, the _smallest_ distance increases. In other words, the closest point to the origin can be very far away. The following two histograms illustrate this effect."
   ]
  },
  {
   "cell_type": "markdown",
   "metadata": {},
   "source": [
    "<img src=\"imgs/distance_50d_hist.gif\" width=400/>\n",
    "<img src=\"imgs/distance_100d_hist.gif\" width=400/>\n",
    "<img src=\"imgs/distance_100000d_hist.gif\" width=400/>"
   ]
  },
  {
   "cell_type": "markdown",
   "metadata": {},
   "source": [
    "### Data Sparsity"
   ]
  },
  {
   "cell_type": "markdown",
   "metadata": {},
   "source": [
    "When the dimensionality $d$ increases, the volume of the space increases so fast that the available data becomes sparse. Consider $N$ uniformly distributed data points  in $d$ dimensional space. If we construct a hypercube by covering $r$ fraction of range of each feature, then number of points captured by this hypercube is given by"
   ]
  },
  {
   "cell_type": "markdown",
   "metadata": {},
   "source": [
    "$$n = N r^d$$"
   ]
  },
  {
   "cell_type": "markdown",
   "metadata": {},
   "source": [
    "The following simulation illustrates this effect. In this simulation $1000$ points are generated and we're considering $20\\%$ of the range of each feature. The small rectangle in $2d$ captures $3.1\\%$ of the data points whereas the cube in $3d$ captures only $0.5\\%$ of total data points."
   ]
  },
  {
   "cell_type": "markdown",
   "metadata": {},
   "source": [
    "\n",
    "<img src=\"imgs/sparcity_2d.png\" width=300/>\n",
    "<img src=\"imgs/sparcity_3d.png\" width=300/>"
   ]
  }
 ],
 "metadata": {
  "kernelspec": {
   "display_name": "Python [conda env:RoboND]",
   "language": "python",
   "name": "conda-env-RoboND-py"
  },
  "language_info": {
   "codemirror_mode": {
    "name": "ipython",
    "version": 3
   },
   "file_extension": ".py",
   "mimetype": "text/x-python",
   "name": "python",
   "nbconvert_exporter": "python",
   "pygments_lexer": "ipython3",
   "version": "3.5.2"
  },
  "widgets": {
   "state": {},
   "version": "1.1.2"
  }
 },
 "nbformat": 4,
 "nbformat_minor": 1
}
